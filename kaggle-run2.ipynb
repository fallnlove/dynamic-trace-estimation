{
 "cells": [
  {
   "cell_type": "code",
   "execution_count": 1,
   "id": "7e0c57e8",
   "metadata": {
    "execution": {
     "iopub.execute_input": "2024-07-23T15:05:22.267511Z",
     "iopub.status.busy": "2024-07-23T15:05:22.267171Z",
     "iopub.status.idle": "2024-07-23T15:06:02.252738Z",
     "shell.execute_reply": "2024-07-23T15:06:02.251797Z"
    },
    "papermill": {
     "duration": 39.993482,
     "end_time": "2024-07-23T15:06:02.255394",
     "exception": false,
     "start_time": "2024-07-23T15:05:22.261912",
     "status": "completed"
    },
    "tags": []
   },
   "outputs": [
    {
     "name": "stdout",
     "output_type": "stream",
     "text": [
      "Requirement already satisfied: torchvision in /opt/conda/lib/python3.10/site-packages (0.16.2)\r\n"
     ]
    },
    {
     "name": "stdout",
     "output_type": "stream",
     "text": [
      "Requirement already satisfied: numpy in /opt/conda/lib/python3.10/site-packages (from torchvision) (1.26.4)\r\n",
      "Requirement already satisfied: requests in /opt/conda/lib/python3.10/site-packages (from torchvision) (2.32.3)\r\n",
      "Requirement already satisfied: torch in /opt/conda/lib/python3.10/site-packages (from torchvision) (2.1.2)\r\n",
      "Requirement already satisfied: pillow!=8.3.*,>=5.3.0 in /opt/conda/lib/python3.10/site-packages (from torchvision) (9.5.0)\r\n",
      "Requirement already satisfied: charset-normalizer<4,>=2 in /opt/conda/lib/python3.10/site-packages (from requests->torchvision) (3.3.2)\r\n",
      "Requirement already satisfied: idna<4,>=2.5 in /opt/conda/lib/python3.10/site-packages (from requests->torchvision) (3.6)\r\n",
      "Requirement already satisfied: urllib3<3,>=1.21.1 in /opt/conda/lib/python3.10/site-packages (from requests->torchvision) (1.26.18)\r\n",
      "Requirement already satisfied: certifi>=2017.4.17 in /opt/conda/lib/python3.10/site-packages (from requests->torchvision) (2024.7.4)\r\n",
      "Requirement already satisfied: filelock in /opt/conda/lib/python3.10/site-packages (from torch->torchvision) (3.13.1)\r\n"
     ]
    },
    {
     "name": "stdout",
     "output_type": "stream",
     "text": [
      "Requirement already satisfied: typing-extensions in /opt/conda/lib/python3.10/site-packages (from torch->torchvision) (4.9.0)\r\n",
      "Requirement already satisfied: sympy in /opt/conda/lib/python3.10/site-packages (from torch->torchvision) (1.13.0)\r\n",
      "Requirement already satisfied: networkx in /opt/conda/lib/python3.10/site-packages (from torch->torchvision) (3.2.1)\r\n",
      "Requirement already satisfied: jinja2 in /opt/conda/lib/python3.10/site-packages (from torch->torchvision) (3.1.2)\r\n",
      "Requirement already satisfied: fsspec in /opt/conda/lib/python3.10/site-packages (from torch->torchvision) (2024.5.0)\r\n"
     ]
    },
    {
     "name": "stdout",
     "output_type": "stream",
     "text": [
      "Requirement already satisfied: MarkupSafe>=2.0 in /opt/conda/lib/python3.10/site-packages (from jinja2->torch->torchvision) (2.1.3)\r\n"
     ]
    },
    {
     "name": "stdout",
     "output_type": "stream",
     "text": [
      "Requirement already satisfied: mpmath<1.4,>=1.1.0 in /opt/conda/lib/python3.10/site-packages (from sympy->torch->torchvision) (1.3.0)\r\n"
     ]
    },
    {
     "name": "stdout",
     "output_type": "stream",
     "text": [
      "Collecting pyhessian\r\n"
     ]
    },
    {
     "name": "stdout",
     "output_type": "stream",
     "text": [
      "  Downloading PyHessian-0.1-py3-none-any.whl.metadata (373 bytes)\r\n",
      "Requirement already satisfied: numpy in /opt/conda/lib/python3.10/site-packages (from pyhessian) (1.26.4)\r\n",
      "Requirement already satisfied: torch in /opt/conda/lib/python3.10/site-packages (from pyhessian) (2.1.2)\r\n"
     ]
    },
    {
     "name": "stdout",
     "output_type": "stream",
     "text": [
      "Requirement already satisfied: filelock in /opt/conda/lib/python3.10/site-packages (from torch->pyhessian) (3.13.1)\r\n",
      "Requirement already satisfied: typing-extensions in /opt/conda/lib/python3.10/site-packages (from torch->pyhessian) (4.9.0)\r\n",
      "Requirement already satisfied: sympy in /opt/conda/lib/python3.10/site-packages (from torch->pyhessian) (1.13.0)\r\n",
      "Requirement already satisfied: networkx in /opt/conda/lib/python3.10/site-packages (from torch->pyhessian) (3.2.1)\r\n",
      "Requirement already satisfied: jinja2 in /opt/conda/lib/python3.10/site-packages (from torch->pyhessian) (3.1.2)\r\n",
      "Requirement already satisfied: fsspec in /opt/conda/lib/python3.10/site-packages (from torch->pyhessian) (2024.5.0)\r\n"
     ]
    },
    {
     "name": "stdout",
     "output_type": "stream",
     "text": [
      "Requirement already satisfied: MarkupSafe>=2.0 in /opt/conda/lib/python3.10/site-packages (from jinja2->torch->pyhessian) (2.1.3)\r\n",
      "Requirement already satisfied: mpmath<1.4,>=1.1.0 in /opt/conda/lib/python3.10/site-packages (from sympy->torch->pyhessian) (1.3.0)\r\n"
     ]
    },
    {
     "name": "stdout",
     "output_type": "stream",
     "text": [
      "Downloading PyHessian-0.1-py3-none-any.whl (6.8 kB)\r\n"
     ]
    },
    {
     "name": "stdout",
     "output_type": "stream",
     "text": [
      "Installing collected packages: pyhessian\r\n"
     ]
    },
    {
     "name": "stdout",
     "output_type": "stream",
     "text": [
      "Successfully installed pyhessian-0.1\r\n"
     ]
    },
    {
     "name": "stdout",
     "output_type": "stream",
     "text": [
      "Collecting pytorchcv\r\n"
     ]
    },
    {
     "name": "stdout",
     "output_type": "stream",
     "text": [
      "  Downloading pytorchcv-0.0.67-py2.py3-none-any.whl.metadata (133 kB)\r\n",
      "\u001b[?25l     \u001b[90m━━━━━━━━━━━━━━━━━━━━━━━━━━━━━━━━━━━━━━━━\u001b[0m \u001b[32m0.0/133.7 kB\u001b[0m \u001b[31m?\u001b[0m eta \u001b[36m-:--:--\u001b[0m\r\n",
      "\u001b[2K     \u001b[90m━━━━━━━━━━━━━━━━━━━━━━━━━━━━━━━━━━━━━━━\u001b[0m \u001b[32m133.7/133.7 kB\u001b[0m \u001b[31m4.8 MB/s\u001b[0m eta \u001b[36m0:00:00\u001b[0m\r\n",
      "\u001b[?25h"
     ]
    },
    {
     "name": "stdout",
     "output_type": "stream",
     "text": [
      "Requirement already satisfied: numpy in /opt/conda/lib/python3.10/site-packages (from pytorchcv) (1.26.4)\r\n",
      "Requirement already satisfied: requests in /opt/conda/lib/python3.10/site-packages (from pytorchcv) (2.32.3)\r\n",
      "Requirement already satisfied: charset-normalizer<4,>=2 in /opt/conda/lib/python3.10/site-packages (from requests->pytorchcv) (3.3.2)\r\n",
      "Requirement already satisfied: idna<4,>=2.5 in /opt/conda/lib/python3.10/site-packages (from requests->pytorchcv) (3.6)\r\n",
      "Requirement already satisfied: urllib3<3,>=1.21.1 in /opt/conda/lib/python3.10/site-packages (from requests->pytorchcv) (1.26.18)\r\n",
      "Requirement already satisfied: certifi>=2017.4.17 in /opt/conda/lib/python3.10/site-packages (from requests->pytorchcv) (2024.7.4)\r\n"
     ]
    },
    {
     "name": "stdout",
     "output_type": "stream",
     "text": [
      "Downloading pytorchcv-0.0.67-py2.py3-none-any.whl (532 kB)\r\n",
      "\u001b[?25l   \u001b[90m━━━━━━━━━━━━━━━━━━━━━━━━━━━━━━━━━━━━━━━━\u001b[0m \u001b[32m0.0/532.4 kB\u001b[0m \u001b[31m?\u001b[0m eta \u001b[36m-:--:--\u001b[0m\r\n",
      "\u001b[2K   \u001b[90m━━━━━━━━━━━━━━━━━━━━━━━━━━━━━━━━━━━━━━━━\u001b[0m \u001b[32m532.4/532.4 kB\u001b[0m \u001b[31m19.6 MB/s\u001b[0m eta \u001b[36m0:00:00\u001b[0m\r\n",
      "\u001b[?25h"
     ]
    },
    {
     "name": "stdout",
     "output_type": "stream",
     "text": [
      "Installing collected packages: pytorchcv\r\n"
     ]
    },
    {
     "name": "stdout",
     "output_type": "stream",
     "text": [
      "Successfully installed pytorchcv-0.0.67\r\n"
     ]
    }
   ],
   "source": [
    "!pip install torchvision\n",
    "!pip install pyhessian\n",
    "!pip install pytorchcv"
   ]
  },
  {
   "cell_type": "code",
   "execution_count": 2,
   "id": "0202cff5",
   "metadata": {
    "execution": {
     "iopub.execute_input": "2024-07-23T15:06:02.267963Z",
     "iopub.status.busy": "2024-07-23T15:06:02.267148Z",
     "iopub.status.idle": "2024-07-23T15:06:08.159314Z",
     "shell.execute_reply": "2024-07-23T15:06:08.158141Z"
    },
    "id": "g33TwbXzxp2S",
    "papermill": {
     "duration": 5.901267,
     "end_time": "2024-07-23T15:06:08.162075",
     "exception": false,
     "start_time": "2024-07-23T15:06:02.260808",
     "status": "completed"
    },
    "tags": []
   },
   "outputs": [],
   "source": [
    "import torch\n",
    "from torchvision import datasets, transforms\n",
    "from pyhessian import hessian # Hessian computation\n",
    "from pytorchcv.model_provider import get_model as ptcv_get_model # model\n",
    "import numpy as np\n",
    "from scipy.sparse import lil_matrix\n",
    "from scipy.sparse.linalg import expm, expm_multiply\n",
    "import os\n",
    "os.environ[\"CUDA_DEVICE_ORDER\"]=\"PCI_BUS_ID\"\n",
    "os.environ[\"CUDA_VISIBLE_DEVICES\"]=\"0\"\n",
    "import numpy as np\n",
    "import torch.nn as nn\n",
    "import torch.nn.functional as F\n",
    "import torch.optim as optim\n",
    "from torchvision import datasets, transforms\n",
    "from torch.autograd import Variable"
   ]
  },
  {
   "cell_type": "code",
   "execution_count": 3,
   "id": "bd151404",
   "metadata": {
    "execution": {
     "iopub.execute_input": "2024-07-23T15:06:08.174635Z",
     "iopub.status.busy": "2024-07-23T15:06:08.173680Z",
     "iopub.status.idle": "2024-07-23T15:06:08.189349Z",
     "shell.execute_reply": "2024-07-23T15:06:08.188450Z"
    },
    "id": "WCepkWgexy2P",
    "papermill": {
     "duration": 0.023703,
     "end_time": "2024-07-23T15:06:08.191209",
     "exception": false,
     "start_time": "2024-07-23T15:06:08.167506",
     "status": "completed"
    },
    "tags": []
   },
   "outputs": [],
   "source": [
    "\n",
    "def getData(name='cifar10', train_bs=128, test_bs=1000):\n",
    "    \"\"\"\n",
    "    Get the dataloader\n",
    "    \"\"\"\n",
    "    if name == 'cifar10':\n",
    "        transform_train = transforms.Compose([\n",
    "            transforms.RandomCrop(32, padding=4),\n",
    "            transforms.RandomHorizontalFlip(),\n",
    "            transforms.ToTensor(),\n",
    "            transforms.Normalize((0.4914, 0.4822, 0.4465),\n",
    "                                 (0.2023, 0.1994, 0.2010)),\n",
    "        ])\n",
    "\n",
    "        transform_test = transforms.Compose([\n",
    "            transforms.ToTensor(),\n",
    "            transforms.Normalize((0.4914, 0.4822, 0.4465),\n",
    "                                 (0.2023, 0.1994, 0.2010)),\n",
    "        ])\n",
    "\n",
    "        trainset = datasets.CIFAR10(root='../data',\n",
    "                                    train=True,\n",
    "                                    download=True,\n",
    "                                    transform=transform_train)\n",
    "        train_loader = torch.utils.data.DataLoader(trainset,\n",
    "                                                   batch_size=train_bs,\n",
    "                                                   shuffle=True)\n",
    "\n",
    "        testset = datasets.CIFAR10(root='../data',\n",
    "                                   train=False,\n",
    "                                   download=False,\n",
    "                                   transform=transform_test)\n",
    "        test_loader = torch.utils.data.DataLoader(testset,\n",
    "                                                  batch_size=test_bs,\n",
    "                                                  shuffle=False)\n",
    "    if name == 'cifar10_without_dataaugmentation':\n",
    "        transform_train = transforms.Compose([\n",
    "            transforms.ToTensor(),\n",
    "            transforms.Normalize((0.4914, 0.4822, 0.4465),\n",
    "                                 (0.2023, 0.1994, 0.2010)),\n",
    "        ])\n",
    "\n",
    "        transform_test = transforms.Compose([\n",
    "            transforms.ToTensor(),\n",
    "            transforms.Normalize((0.4914, 0.4822, 0.4465),\n",
    "                                 (0.2023, 0.1994, 0.2010)),\n",
    "        ])\n",
    "\n",
    "        trainset = datasets.CIFAR10(root='../data',\n",
    "                                    train=True,\n",
    "                                    download=True,\n",
    "                                    transform=transform_train)\n",
    "        train_loader = torch.utils.data.DataLoader(trainset,\n",
    "                                                   batch_size=train_bs,\n",
    "                                                   shuffle=True)\n",
    "\n",
    "        testset = datasets.CIFAR10(root='../data',\n",
    "                                   train=False,\n",
    "                                   download=False,\n",
    "                                   transform=transform_test)\n",
    "        test_loader = torch.utils.data.DataLoader(testset,\n",
    "                                                  batch_size=test_bs,\n",
    "                                                  shuffle=False)\n",
    "\n",
    "    return train_loader, test_loader\n",
    "\n",
    "def hessian_vector_product(gradsH, params, v):\n",
    "    \"\"\"\n",
    "    compute the hessian vector product of Hv, where\n",
    "    gradsH is the gradient at the current point,\n",
    "    params is the corresponding variables,\n",
    "    v is the vector.\n",
    "    \"\"\"\n",
    "    hv = torch.autograd.grad(gradsH,\n",
    "                             params,\n",
    "                             grad_outputs=v,\n",
    "                             only_inputs=True,\n",
    "                             retain_graph=True)\n",
    "    return hv\n",
    "def group_product(xs, ys):\n",
    "    \"\"\"\n",
    "    the inner product of two lists of variables xs,ys\n",
    "    :param xs:\n",
    "    :param ys:\n",
    "    :return:\n",
    "    \"\"\"\n",
    "    return sum([torch.sum(x * y) for (x, y) in zip(xs, ys)])"
   ]
  },
  {
   "cell_type": "code",
   "execution_count": 4,
   "id": "e31a07fd",
   "metadata": {
    "execution": {
     "iopub.execute_input": "2024-07-23T15:06:08.203232Z",
     "iopub.status.busy": "2024-07-23T15:06:08.202467Z",
     "iopub.status.idle": "2024-07-23T15:06:08.212187Z",
     "shell.execute_reply": "2024-07-23T15:06:08.211324Z"
    },
    "id": "f-wfvNqxC53f",
    "papermill": {
     "duration": 0.017603,
     "end_time": "2024-07-23T15:06:08.214170",
     "exception": false,
     "start_time": "2024-07-23T15:06:08.196567",
     "status": "completed"
    },
    "tags": []
   },
   "outputs": [],
   "source": [
    "\n",
    "def RademacherVector(n):\n",
    "    \"\"\"\n",
    "        Input:\n",
    "            n: num of components\n",
    "        Output:\n",
    "            vec: random vector from Rademacher distribution\n",
    "    \"\"\"\n",
    "\n",
    "    v = [\n",
    "        torch.randint_like(p, high=2)\n",
    "        for p in n\n",
    "    ]\n",
    "    for v_i in v:\n",
    "        v_i[v_i == 0] = -1\n",
    "\n",
    "    return v\n",
    "\n",
    "def Hutchinson(oracle, n, l: int):\n",
    "    \"\"\"\n",
    "        Input:\n",
    "            oracle: oracle for implicit matrix-vector multiplication with A\n",
    "            n: size of the matrix A\n",
    "            l: number of iteration to approximate the trace of the matrix A\n",
    "        Output:\n",
    "            approximation: approximation to the trace of A\n",
    "    \"\"\"\n",
    "\n",
    "    assert l >= 0\n",
    "\n",
    "    approximation = 0\n",
    "\n",
    "    for iter in range(l):\n",
    "        g = RademacherVector(n)\n",
    "        approximation += group_product(oracle(g), g).cpu().item()\n",
    "\n",
    "    return approximation / l\n",
    "\n",
    "def SquaredFrobenius(oracle, n: int, l: int):\n",
    "    \"\"\"\n",
    "        Input:\n",
    "            oracle: oracle for implicit matrix-vector multiplication with A\n",
    "            n: size of the matrix A\n",
    "            l: number of iteration to approximate the frobenius norm of the matrix A\n",
    "        Output:\n",
    "            approximation: approximation to the frobenius norm of A\n",
    "    \"\"\"\n",
    "\n",
    "    assert l >= 0\n",
    "\n",
    "    approximation = 0\n",
    "    \n",
    "    for iter in range(l):\n",
    "        g = oracle(RademacherVector(n))\n",
    "        approximation += group_product(g, g).cpu().item()\n",
    "    \n",
    "    return approximation[0, 0] / l\n",
    "\n",
    "def write_array(arr, file_name):\n",
    "    f = open(\"/kaggle/working/\" + file_name, 'w')\n",
    "    for i in arr:\n",
    "        f.write(str(i) + \" \")\n",
    "    f.write(\"\\n\")\n",
    "    f.close()"
   ]
  },
  {
   "cell_type": "code",
   "execution_count": 5,
   "id": "c87778fa",
   "metadata": {
    "execution": {
     "iopub.execute_input": "2024-07-23T15:06:08.225389Z",
     "iopub.status.busy": "2024-07-23T15:06:08.225108Z",
     "iopub.status.idle": "2024-07-23T15:06:08.239953Z",
     "shell.execute_reply": "2024-07-23T15:06:08.239033Z"
    },
    "papermill": {
     "duration": 0.022811,
     "end_time": "2024-07-23T15:06:08.242007",
     "exception": false,
     "start_time": "2024-07-23T15:06:08.219196",
     "status": "completed"
    },
    "tags": []
   },
   "outputs": [],
   "source": [
    "\n",
    "def DeltaShiftRestart(prev, cur, iter, last_app, n: int, l0: int, l: int, q: int):\n",
    "    \"\"\"\n",
    "        DeltaShift algorithm, but restart every q iterations\n",
    "        Input:\n",
    "            oracles: oracles for implicit matrix-vector multiplication with A1, ..., Am\n",
    "            n: matrix size\n",
    "            l0: number of iteration to approximate the trace of the matrix A1\n",
    "            l: number of iteration to approximate the trace of the other matrixes\n",
    "            q: number of iterations to restart\n",
    "        Output:\n",
    "            approximation: list of approximations to the trace of A1, ..., Am\n",
    "    \"\"\"\n",
    "\n",
    "    if iter % q == 0:\n",
    "        return Hutchinson(cur, n, l0)\n",
    "    else:\n",
    "        t = last_app\n",
    "        for iter in range(l):\n",
    "            g = RademacherVector(n)\n",
    "            t += (group_product(cur(g), g).cpu().item() - group_product(prev(g), g).cpu().item()) / l\n",
    "        return t\n",
    "\n",
    "\n",
    "def DeltaShift(prev, cur, var, iter, last_app, n: int, l0: int, l: int):\n",
    "    if iter == 0:\n",
    "        approximation = 0\n",
    "        N = 0\n",
    "\n",
    "        for _ in range(l0):\n",
    "            g = RademacherVector(n)\n",
    "            z = cur(g)\n",
    "            approximation += group_product(z, g).cpu().item()\n",
    "            N += group_product(z, z).cpu().item()\n",
    "\n",
    "        approximation /= l0\n",
    "        N /= l0\n",
    "        variance = 2 / l0 * N\n",
    "        return approximation, variance\n",
    "    else:\n",
    "        approximation = 0\n",
    "        z = []\n",
    "        w = []\n",
    "        g = []\n",
    "        for j in range(l):\n",
    "            current = RademacherVector(n)\n",
    "            z.append(prev(current))\n",
    "            w.append(cur(current))\n",
    "            g.append(current)\n",
    "\n",
    "        N = 0\n",
    "        M = 0\n",
    "        C = 0\n",
    "        for j in range(l):\n",
    "            N += group_product(z[j], z[j]).cpu().item() / l\n",
    "            M += group_product(w[j], w[j]).cpu().item() / l\n",
    "            C += group_product(w[j], z[j]).cpu().item() / l\n",
    "\n",
    "        gamma = 1 - (2 * C) / (l * var + 2 * N)\n",
    "\n",
    "        t = (1 - gamma) * last_app\n",
    "        for j in range(l):\n",
    "            t += (group_product(g[j], w[j]).cpu().item() - (1 - gamma) * group_product(g[j], z[j]).cpu().item()) / l\n",
    "\n",
    "        variance = (1 - gamma)**2 * var + 2 / l * (M + (1 - gamma)**2 * N - 2 * (1 - gamma) * C)\n",
    "        return t, variance"
   ]
  },
  {
   "cell_type": "code",
   "execution_count": 6,
   "id": "2b351806",
   "metadata": {
    "execution": {
     "iopub.execute_input": "2024-07-23T15:06:08.253904Z",
     "iopub.status.busy": "2024-07-23T15:06:08.253260Z",
     "iopub.status.idle": "2024-07-23T15:06:08.264244Z",
     "shell.execute_reply": "2024-07-23T15:06:08.263315Z"
    },
    "papermill": {
     "duration": 0.019185,
     "end_time": "2024-07-23T15:06:08.266298",
     "exception": false,
     "start_time": "2024-07-23T15:06:08.247113",
     "status": "completed"
    },
    "tags": []
   },
   "outputs": [],
   "source": [
    "def GetTraceAndFrob(oracle, n, l: int):\n",
    "    \"\"\"\n",
    "        Input:\n",
    "            oracle: oracle for implicit matrix-vector multiplication with A\n",
    "            n: size of the matrix A\n",
    "            l: number of iteration to approximate the trace of the matrix A\n",
    "        Output:\n",
    "            approximation: approximation to the trace and to the squared frob-norm of A\n",
    "    \"\"\"\n",
    "\n",
    "    assert l >= 0\n",
    "\n",
    "    approximation_tr = 0\n",
    "    approximation_fr = 0\n",
    "\n",
    "    for iter in range(l):\n",
    "        g = RademacherVector(n)\n",
    "        t = oracle(g)\n",
    "        approximation_tr += group_product(t, g).cpu().item()\n",
    "        approximation_fr += group_product(t, t).cpu().item()\n",
    "\n",
    "    return approximation_tr / l, approximation_fr / l\n",
    "\n",
    "def DeltaShiftFrob(prev, cur, iter, last_app_e, last_app_h, n: int, l0: int, l: int):\n",
    "    if iter == 0:\n",
    "        approximation = 0\n",
    "\n",
    "        for _ in range(l0):\n",
    "            g = cur(RademacherVector(n))\n",
    "            approximation += group_product(g, g).cpu().item()\n",
    "        return approximation / l0, approximation / l0\n",
    "    else:\n",
    "        easy_way = last_app_e\n",
    "        hard_way = last_app_h\n",
    "        for _ in range(l // 2):\n",
    "            g1 = prev(RademacherVector(n))\n",
    "            g2 = cur(RademacherVector(n))\n",
    "            t1 = group_product(g1, g2).cpu().item() - group_product(g1, g1).cpu().item()\n",
    "            t2 = group_product(g2, g2).cpu().item() - 2 * group_product(g2, g1).cpu().item() + group_product(g1, g1).cpu().item()\n",
    "            easy_way += 2 * t1 / (l // 2)\n",
    "            hard_way += 2 * t1 / (l // 2)\n",
    "            hard_way += t2 / (l // 2)\n",
    "        \n",
    "        return easy_way, hard_way"
   ]
  },
  {
   "cell_type": "code",
   "execution_count": 7,
   "id": "482a65bb",
   "metadata": {
    "execution": {
     "iopub.execute_input": "2024-07-23T15:06:08.277943Z",
     "iopub.status.busy": "2024-07-23T15:06:08.277202Z",
     "iopub.status.idle": "2024-07-23T15:06:08.284587Z",
     "shell.execute_reply": "2024-07-23T15:06:08.283674Z"
    },
    "id": "JrWzu7oEC_YD",
    "papermill": {
     "duration": 0.015373,
     "end_time": "2024-07-23T15:06:08.286760",
     "exception": false,
     "start_time": "2024-07-23T15:06:08.271387",
     "status": "completed"
    },
    "tags": []
   },
   "outputs": [],
   "source": [
    "\n",
    "def CheckAlgorithms(oracles, n, correct_ans, title = None):\n",
    "    \"\"\"\n",
    "        Generate graphic with relative error\n",
    "        Input:\n",
    "            oracles: list of oracle to compute matrix-vector multiplication\n",
    "            n: matrix size\n",
    "            correct_ans: list of the trace of the given matrixes\n",
    "            title: title of the graphic\n",
    "        Output:\n",
    "            -\n",
    "    \"\"\"\n",
    "\n",
    "    l0 = 100\n",
    "    l = 50\n",
    "\n",
    "    correct_ans = np.array(correct_ans)\n",
    "\n",
    "    simpl_hutchinson = np.array(SimpleHutchinson(oracles, n, l))\n",
    "    write_array(abs(correct_ans - simpl_hutchinson) / max(correct_ans), 'Hutchinson.txt')\n",
    "\n",
    "    print(\"1\")\n",
    "\n",
    "    delta_shift = np.array(ParameterFreeDeltaShift(oracles, n, l0, l - 50 // (len(oracles) - 1)))\n",
    "    write_array(abs(correct_ans - delta_shift) / max(correct_ans), 'Deltshift.txt')\n",
    "\n",
    "    print(\"2\")\n",
    "\n",
    "    delta_shift_r = np.array(DeltaShiftRestart(oracles, n, l0, l - 50 // 19, 20))\n",
    "    write_array(abs(correct_ans - delta_shift_r) / max(correct_ans), 'Deltshiftrest.txt')\n"
   ]
  },
  {
   "cell_type": "code",
   "execution_count": 8,
   "id": "0f353c38",
   "metadata": {
    "execution": {
     "iopub.execute_input": "2024-07-23T15:06:08.298722Z",
     "iopub.status.busy": "2024-07-23T15:06:08.297992Z"
    },
    "id": "C8v5OvqIDB1j",
    "outputId": "e10929a8-5bcb-4055-bde3-39b7bdf21e91",
    "papermill": {
     "duration": null,
     "end_time": null,
     "exception": false,
     "start_time": "2024-07-23T15:06:08.291972",
     "status": "running"
    },
    "tags": []
   },
   "outputs": [
    {
     "name": "stdout",
     "output_type": "stream",
     "text": [
      "Downloading /root/.torch/models/resnet20_cifar10-0597-9b0024ac.pth.zip from https://github.com/osmr/imgclsmob/releases/download/v0.0.163/resnet20_cifar10-0597-9b0024ac.pth.zip...\n"
     ]
    },
    {
     "name": "stdout",
     "output_type": "stream",
     "text": [
      "Downloading https://www.cs.toronto.edu/~kriz/cifar-10-python.tar.gz to ../data/cifar-10-python.tar.gz\n"
     ]
    },
    {
     "name": "stderr",
     "output_type": "stream",
     "text": [
      "\r\n",
      "  0%|          | 0/170498071 [00:00<?, ?it/s]"
     ]
    },
    {
     "name": "stderr",
     "output_type": "stream",
     "text": [
      "\r\n",
      "  0%|          | 65536/170498071 [00:00<04:33, 622284.29it/s]"
     ]
    },
    {
     "name": "stderr",
     "output_type": "stream",
     "text": [
      "\r\n",
      "  0%|          | 229376/170498071 [00:00<02:27, 1153842.01it/s]"
     ]
    },
    {
     "name": "stderr",
     "output_type": "stream",
     "text": [
      "\r\n",
      "  1%|          | 917504/170498071 [00:00<00:47, 3539221.17it/s]"
     ]
    },
    {
     "name": "stderr",
     "output_type": "stream",
     "text": [
      "\r\n",
      "  2%|▏         | 3702784/170498071 [00:00<00:13, 12298145.77it/s]"
     ]
    },
    {
     "name": "stderr",
     "output_type": "stream",
     "text": [
      "\r\n",
      "  6%|▌         | 9830400/170498071 [00:00<00:05, 27644538.76it/s]"
     ]
    },
    {
     "name": "stderr",
     "output_type": "stream",
     "text": [
      "\r\n",
      "  9%|▉         | 16121856/170498071 [00:00<00:04, 36984705.77it/s]"
     ]
    },
    {
     "name": "stderr",
     "output_type": "stream",
     "text": [
      "\r\n",
      " 13%|█▎        | 22609920/170498071 [00:00<00:03, 43165535.39it/s]"
     ]
    },
    {
     "name": "stderr",
     "output_type": "stream",
     "text": [
      "\r\n",
      " 17%|█▋        | 28999680/170498071 [00:00<00:03, 46992411.74it/s]"
     ]
    },
    {
     "name": "stderr",
     "output_type": "stream",
     "text": [
      "\r\n",
      " 21%|██        | 35487744/170498071 [00:01<00:02, 49644785.02it/s]"
     ]
    },
    {
     "name": "stderr",
     "output_type": "stream",
     "text": [
      "\r\n",
      " 25%|██▍       | 41877504/170498071 [00:01<00:02, 51307669.89it/s]"
     ]
    },
    {
     "name": "stderr",
     "output_type": "stream",
     "text": [
      "\r\n",
      " 28%|██▊       | 48103424/170498071 [00:01<00:02, 52159039.70it/s]"
     ]
    },
    {
     "name": "stderr",
     "output_type": "stream",
     "text": [
      "\r\n",
      " 32%|███▏      | 54460416/170498071 [00:01<00:02, 52959095.25it/s]"
     ]
    },
    {
     "name": "stderr",
     "output_type": "stream",
     "text": [
      "\r\n",
      " 36%|███▌      | 60850176/170498071 [00:01<00:02, 53550574.52it/s]"
     ]
    },
    {
     "name": "stderr",
     "output_type": "stream",
     "text": [
      "\r\n",
      " 39%|███▉      | 67305472/170498071 [00:01<00:01, 54047164.47it/s]"
     ]
    },
    {
     "name": "stderr",
     "output_type": "stream",
     "text": [
      "\r\n",
      " 43%|████▎     | 73793536/170498071 [00:01<00:01, 54459064.18it/s]"
     ]
    },
    {
     "name": "stderr",
     "output_type": "stream",
     "text": [
      "\r\n",
      " 47%|████▋     | 80216064/170498071 [00:01<00:01, 54636752.87it/s]"
     ]
    },
    {
     "name": "stderr",
     "output_type": "stream",
     "text": [
      "\r\n",
      " 51%|█████     | 86671360/170498071 [00:01<00:01, 54794806.14it/s]"
     ]
    },
    {
     "name": "stderr",
     "output_type": "stream",
     "text": [
      "\r\n",
      " 55%|█████▍    | 93159424/170498071 [00:02<00:01, 54957167.53it/s]"
     ]
    },
    {
     "name": "stderr",
     "output_type": "stream",
     "text": [
      "\r\n",
      " 58%|█████▊    | 99614720/170498071 [00:02<00:01, 55048846.96it/s]"
     ]
    },
    {
     "name": "stderr",
     "output_type": "stream",
     "text": [
      "\r\n",
      " 62%|██████▏   | 106070016/170498071 [00:02<00:01, 55127674.21it/s]"
     ]
    },
    {
     "name": "stderr",
     "output_type": "stream",
     "text": [
      "\r\n",
      " 66%|██████▌   | 112459776/170498071 [00:02<00:01, 55067512.88it/s]"
     ]
    },
    {
     "name": "stderr",
     "output_type": "stream",
     "text": [
      "\r\n",
      " 70%|██████▉   | 118947840/170498071 [00:02<00:00, 55162796.96it/s]"
     ]
    },
    {
     "name": "stderr",
     "output_type": "stream",
     "text": [
      "\r\n",
      " 74%|███████▎  | 125337600/170498071 [00:02<00:00, 55086064.10it/s]"
     ]
    },
    {
     "name": "stderr",
     "output_type": "stream",
     "text": [
      "\r\n",
      " 77%|███████▋  | 131760128/170498071 [00:02<00:00, 55112570.63it/s]"
     ]
    },
    {
     "name": "stderr",
     "output_type": "stream",
     "text": [
      "\r\n",
      " 81%|████████  | 138117120/170498071 [00:02<00:00, 54991242.05it/s]"
     ]
    },
    {
     "name": "stderr",
     "output_type": "stream",
     "text": [
      "\r\n",
      " 85%|████████▍ | 144605184/170498071 [00:02<00:00, 55133644.90it/s]"
     ]
    },
    {
     "name": "stderr",
     "output_type": "stream",
     "text": [
      "\r\n",
      " 89%|████████▊ | 150994944/170498071 [00:03<00:00, 55068112.84it/s]"
     ]
    },
    {
     "name": "stderr",
     "output_type": "stream",
     "text": [
      "\r\n",
      " 92%|█████████▏| 157417472/170498071 [00:03<00:00, 55077056.84it/s]"
     ]
    },
    {
     "name": "stderr",
     "output_type": "stream",
     "text": [
      "\r\n",
      " 96%|█████████▌| 163905536/170498071 [00:03<00:00, 55165236.38it/s]"
     ]
    },
    {
     "name": "stderr",
     "output_type": "stream",
     "text": [
      "\r\n",
      "100%|█████████▉| 170328064/170498071 [00:03<00:00, 55138235.08it/s]"
     ]
    },
    {
     "name": "stderr",
     "output_type": "stream",
     "text": [
      "\r\n",
      "100%|██████████| 170498071/170498071 [00:03<00:00, 49206508.12it/s]"
     ]
    },
    {
     "name": "stderr",
     "output_type": "stream",
     "text": [
      "\n"
     ]
    },
    {
     "name": "stdout",
     "output_type": "stream",
     "text": [
      "Extracting ../data/cifar-10-python.tar.gz to ../data\n"
     ]
    },
    {
     "name": "stderr",
     "output_type": "stream",
     "text": [
      "/opt/conda/lib/python3.10/site-packages/torch/autograd/__init__.py:251: UserWarning: Using backward() with create_graph=True will create a reference cycle between the parameter and its gradient which can cause a memory leak. We recommend using autograd.grad when creating the graph to avoid this. If you have to use this function, make sure to reset the .grad fields of your parameters to None after use to break the cycle and avoid the leak. (Triggered internally at /usr/local/src/pytorch/torch/csrc/autograd/engine.cpp:1171.)\n",
      "  Variable._execution_engine.run_backward(  # Calls into the C++ engine to run the backward pass\n"
     ]
    },
    {
     "name": "stdout",
     "output_type": "stream",
     "text": [
      "812.7776091308593 823.6864184570312 834.6565435791016 825.2620681762695 52190.227313476564 53170.9026953125 59358.99381835938 59358.99381835938 0:01:46.972185\n"
     ]
    },
    {
     "name": "stdout",
     "output_type": "stream",
     "text": [
      "1564.2166639404297 1640.0660144042968 1647.7071767219654 1541.7148034413663 126597.43390820312 139609.021953125 -38291.87075195314 135107.7339355469 0:03:09.497760\n"
     ]
    },
    {
     "name": "stdout",
     "output_type": "stream",
     "text": [
      "2060.7491631469725 2132.05138671875 2155.640736728495 2041.2696765899675 179904.46500585938 193369.469140625 -287476.93506835937 186393.6233105469 0:04:46.237470\n"
     ]
    },
    {
     "name": "stdout",
     "output_type": "stream",
     "text": [
      "2716.8416154785155 2734.665380859375 2859.5269862980936 2691.8439868927017 272014.14705078123 265128.65609375 -653866.4543457032 328153.77081054694 0:06:22.717886\n"
     ]
    },
    {
     "name": "stdout",
     "output_type": "stream",
     "text": [
      "3559.7346801757812 3395.4784521484376 3656.165223850538 3479.143819554649 451864.708109375 415650.5540625 -1222999.3323925782 514536.9376855471 0:07:58.992412\n"
     ]
    },
    {
     "name": "stdout",
     "output_type": "stream",
     "text": [
      "4111.518697265625 3943.7013720703126 4170.997998196673 3951.653803888958 578083.37996875 512397.635 -2145520.3261816404 630381.2570605472 0:09:35.382630\n"
     ]
    },
    {
     "name": "stdout",
     "output_type": "stream",
     "text": [
      "4553.637655517578 4502.204418945313 4745.259790131884 4518.850072606404 685519.2051875 692237.51625 -3282366.7317871093 708159.7058105471 0:11:12.267804\n"
     ]
    },
    {
     "name": "stdout",
     "output_type": "stream",
     "text": [
      "5424.3938876953125 5632.648051757813 5485.207055721042 5297.6789707183825 947395.949015625 1054189.0125 -4962573.170361327 1134377.2895605469 0:12:48.358246\n"
     ]
    },
    {
     "name": "stdout",
     "output_type": "stream",
     "text": [
      "6070.173527587891 5910.2733544921875 6122.124066971902 5897.396896743774 1168115.584796875 1137705.124375 -6929772.651298827 1355649.4220605465 0:14:24.710847\n"
     ]
    },
    {
     "name": "stdout",
     "output_type": "stream",
     "text": [
      "6819.292000732422 6804.12009765625 7016.370967501528 6783.249476496376 1437360.74984375 1432093.665 -8943481.539580077 1947697.1570605463 0:16:01.783233\n"
     ]
    },
    {
     "name": "stdout",
     "output_type": "stream",
     "text": [
      "7423.453934326172 7544.571162109375 7640.976421647014 7369.759882990517 1712647.99315625 1810546.346875 -11805276.223251954 2217114.674560547 0:17:38.208413\n"
     ]
    },
    {
     "name": "stdout",
     "output_type": "stream",
     "text": [
      "7926.604189697266 7848.681220703125 8035.80862962419 7799.754552586869 1915972.90515625 1897719.2425 -14628392.972626952 2549569.8458105456 0:19:14.725656\n"
     ]
    },
    {
     "name": "stdout",
     "output_type": "stream",
     "text": [
      "8934.243265136718 9689.875595703124 9013.703722476743 8923.500117365518 2345699.1895625 2841537.85875 -19368738.182314456 2101418.208310547 0:20:50.717361\n"
     ]
    },
    {
     "name": "stdout",
     "output_type": "stream",
     "text": [
      "9517.955543945312 9538.040078125 9665.30002037525 9655.374384943641 2649671.8879375 2727777.825 -23344119.70793945 2409008.3133105473 0:22:26.877461\n"
     ]
    },
    {
     "name": "stdout",
     "output_type": "stream",
     "text": [
      "10058.86715625 10320.79921875 10266.415192062837 10184.39927711487 2957965.10559375 3002429.6825 -28161995.92481446 2942446.0983105483 0:24:02.881200\n"
     ]
    },
    {
     "name": "stdout",
     "output_type": "stream",
     "text": [
      "11093.817899414062 10907.253232421876 11046.358699883587 11067.110692723598 3558380.8425625 3497583.435 -33627503.95106446 3307031.383310548 0:25:38.159918\n"
     ]
    },
    {
     "name": "stdout",
     "output_type": "stream",
     "text": [
      "12002.893725097656 12449.14662109375 12028.36065015934 12155.465215428676 4274513.1050625 4492632.23 -40936585.37481446 4010981.4433105486 0:27:14.649210\n"
     ]
    },
    {
     "name": "stdout",
     "output_type": "stream",
     "text": [
      "12499.94040234375 12136.855869140625 12739.14486582608 12779.468511327115 4606202.7714375 4230106.1725 -49974524.69646485 4516325.450810551 0:28:51.468320\n"
     ]
    },
    {
     "name": "stdout",
     "output_type": "stream",
     "text": [
      "13261.991238769531 13298.475341796875 13375.676175471115 13450.936691665653 5129581.3066875 5163543.685 -58947205.76068361 4450110.845810551 0:30:27.721180\n"
     ]
    },
    {
     "name": "stdout",
     "output_type": "stream",
     "text": [
      "13697.920624511718 13731.5766796875 13872.871212777409 13923.140315119428 5492684.45675 5984520.445 -69044319.2644336 4813224.143310553 0:32:03.686705\n"
     ]
    },
    {
     "name": "stdout",
     "output_type": "stream",
     "text": [
      "14380.46032861328 14290.337001953125 14522.005575088153 15110.59302734375 5945950.99075 5873111.4825 -78909633.4675586 4327410.478310551 0:33:49.733446\n"
     ]
    },
    {
     "name": "stdout",
     "output_type": "stream",
     "text": [
      "15030.968162597655 15544.23107421875 15384.66013230372 15802.573170572918 6389091.8735 6879633.295 -92726136.06693354 3071196.8233105512 0:35:15.768287\n"
     ]
    },
    {
     "name": "stdout",
     "output_type": "stream",
     "text": [
      "15969.947152832032 17834.298046875 16516.603862226184 16892.762277832036 7263657.234375 9177016.82 -104383302.13173828 3565918.7733105496 0:36:53.119133\n"
     ]
    },
    {
     "name": "stdout",
     "output_type": "stream",
     "text": [
      "16508.54742480469 16390.0664453125 16927.339619634007 17404.553781738283 7602925.3555 7903066.345 -118392163.26798826 4700281.883310549 0:38:28.471866\n"
     ]
    },
    {
     "name": "stdout",
     "output_type": "stream",
     "text": [
      "17322.393390625 16999.28177734375 17382.15294800708 17976.790008138025 8303054.08 8097037.695 -135837793.8354883 6721376.383310551 0:40:05.839361\n"
     ]
    },
    {
     "name": "stdout",
     "output_type": "stream",
     "text": [
      "18139.638240234373 18610.8790625 17953.29517161014 18613.96914632161 9177168.096375 9718710.06 -157191702.8867383 6390076.543310554 0:41:42.278814\n"
     ]
    },
    {
     "name": "stdout",
     "output_type": "stream",
     "text": [
      "18415.77846875 18146.08345703125 18719.453085653873 19301.252532552076 9435503.6745 8931019.3125 -179998006.80673835 5354562.103310555 0:43:18.052718\n"
     ]
    },
    {
     "name": "stdout",
     "output_type": "stream",
     "text": [
      "19126.382688476562 19288.21837890625 19285.57176379818 19779.77338623048 10179226.407375 10612930.84 -198410850.83423838 4757339.543310553 0:44:53.997162\n"
     ]
    },
    {
     "name": "stdout",
     "output_type": "stream",
     "text": [
      "20232.33291699219 20427.238359375 20126.315877854053 20593.316578776048 11374036.3175 11521245.645 -218414595.59455097 7002635.363310553 0:46:30.660742\n"
     ]
    }
   ],
   "source": [
    "\n",
    "# get the model\n",
    "import datetime\n",
    "\n",
    "\n",
    "\n",
    "def run_test(i):\n",
    "    model = ptcv_get_model(\"resnet20_cifar10\", pretrained=True)\n",
    "    # change the model to eval mode to disable running stats upate\n",
    "    model.eval()\n",
    "\n",
    "    # create loss function\n",
    "    criterion = torch.nn.CrossEntropyLoss()\n",
    "\n",
    "    # get dataset\n",
    "    train_loader, test_loader = getData()\n",
    "\n",
    "    correct_ans = []\n",
    "    prev = None\n",
    "    varience = 0\n",
    "    last_app = 0\n",
    "    last_appr = 0\n",
    "\n",
    "    last_ser = 0\n",
    "    last_me = 0\n",
    "\n",
    "    model = model.cuda()\n",
    "\n",
    "    for ab, i in zip(train_loader, range(len(train_loader))):\n",
    "        if i >= 8:\n",
    "            break\n",
    "        inputs, targets = ab\n",
    "        hessian_comp = hessian(model, criterion, data=(inputs, targets), cuda=True)\n",
    "\n",
    "        now = datetime.datetime.now()\n",
    "\n",
    "        true_trace, true_frob = GetTraceAndFrob((lambda x: hessian_vector_product(hessian_comp.gradsH, hessian_comp.params, x)), hessian_comp.params, 1000)\n",
    "        hutch_trace, hutch_frob = GetTraceAndFrob((lambda x: hessian_vector_product(hessian_comp.gradsH, hessian_comp.params, x)), hessian_comp.params, 50)\n",
    "        delt_shift, var = DeltaShift((lambda x: hessian_vector_product(prev.gradsH, prev.params, x)),\n",
    "                                (lambda x: hessian_vector_product(hessian_comp.gradsH, hessian_comp.params, x)),\n",
    "                                varience, i, last_app, hessian_comp.params, 100, 50)\n",
    "        delt_shift_r = DeltaShiftRestart((lambda x: hessian_vector_product(prev.gradsH, prev.params, x)),\n",
    "                                (lambda x: hessian_vector_product(hessian_comp.gradsH, hessian_comp.params, x)),\n",
    "                            i, last_appr, hessian_comp.params, 100, 50 - (50 // 19), 20)\n",
    "        sereja, me = DeltaShiftFrob((lambda x: hessian_vector_product(prev.gradsH, prev.params, x)),\n",
    "                                (lambda x: hessian_vector_product(hessian_comp.gradsH, hessian_comp.params, x)),\n",
    "                            i, last_ser, last_me, hessian_comp.params, 100, 50)\n",
    "        prev = hessian_comp\n",
    "        last_app = delt_shift\n",
    "        last_appr = delt_shift_r\n",
    "        varience = var\n",
    "        last_ser = sereja\n",
    "        last_me = me\n",
    "\n",
    "        correct_ans.append((true_trace, hutch_trace, delt_shift, delt_shift_r, true_frob, hutch_frob, sereja, me))\n",
    "        print(true_trace, hutch_trace, delt_shift, delt_shift_r, true_frob, hutch_frob, sereja, me, datetime.datetime.now() - now)\n",
    "        write_array(correct_ans, f\"correct_{i}.txt\")\n",
    "\n",
    "    print(correct_ans)\n",
    "    write_array(correct_ans, f\"correct_{i}.txt\")\n",
    "\n",
    "for i in range(12):\n",
    "    run_test(i)"
   ]
  }
 ],
 "metadata": {
  "accelerator": "GPU",
  "colab": {
   "gpuType": "L4",
   "machine_shape": "hm",
   "provenance": []
  },
  "kaggle": {
   "accelerator": "gpu",
   "dataSources": [],
   "dockerImageVersionId": 30746,
   "isGpuEnabled": true,
   "isInternetEnabled": true,
   "language": "python",
   "sourceType": "notebook"
  },
  "kernelspec": {
   "display_name": "Python 3",
   "language": "python",
   "name": "python3"
  },
  "language_info": {
   "codemirror_mode": {
    "name": "ipython",
    "version": 3
   },
   "file_extension": ".py",
   "mimetype": "text/x-python",
   "name": "python",
   "nbconvert_exporter": "python",
   "pygments_lexer": "ipython3",
   "version": "3.10.13"
  },
  "papermill": {
   "default_parameters": {},
   "duration": null,
   "end_time": null,
   "environment_variables": {},
   "exception": null,
   "input_path": "__notebook__.ipynb",
   "output_path": "__notebook__.ipynb",
   "parameters": {},
   "start_time": "2024-07-23T15:05:19.377870",
   "version": "2.5.0"
  }
 },
 "nbformat": 4,
 "nbformat_minor": 5
}
